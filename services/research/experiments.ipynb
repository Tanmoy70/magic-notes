{
 "cells": [
  {
   "cell_type": "code",
   "execution_count": 6,
   "metadata": {},
   "outputs": [],
   "source": [
    "from langchain.prompts import PromptTemplate\n",
    "from langchain_community.llms import ollama"
   ]
  },
  {
   "cell_type": "code",
   "execution_count": 8,
   "metadata": {},
   "outputs": [],
   "source": [
    "template = PromptTemplate.from_template(\"\"\"\n",
    "    Write an advertisement on {topic} within {words} for {organizationType}\n",
    "\"\"\")"
   ]
  },
  {
   "cell_type": "code",
   "execution_count": 10,
   "metadata": {},
   "outputs": [],
   "source": [
    "prompt_topic = input(\"Enter the topic :: \")\n",
    "prompt_words = input(\"Enter the no. of words :: \")\n",
    "prompt_type = input(\"Enter your organization type :: \")\n",
    "\n",
    "generated_prompt = template.format(topic=prompt_topic, words=prompt_words, organizationType=prompt_type)"
   ]
  },
  {
   "cell_type": "code",
   "execution_count": 11,
   "metadata": {},
   "outputs": [
    {
     "name": "stdout",
     "output_type": "stream",
     "text": [
      "\n",
      "    Write an advertisement on selling grocery  within 120 for online store\n",
      "\n"
     ]
    }
   ],
   "source": [
    "print(generated_prompt)"
   ]
  },
  {
   "cell_type": "code",
   "execution_count": 12,
   "metadata": {},
   "outputs": [],
   "source": [
    "llm = ollama.Ollama(model=\"gemma:2b\")"
   ]
  },
  {
   "cell_type": "code",
   "execution_count": 13,
   "metadata": {},
   "outputs": [
    {
     "data": {
      "text/plain": [
       "\"## **Discover Freshness and Flavor with our Online Grocery Store!**\\n\\n**Get everything you need, from essentials to gourmet delights, delivered right to your doorstep!**\\n\\n**Why Shop with Us?**\\n\\n* **Freshness Guaranteed:** We source our products directly from local farmers and suppliers, ensuring the highest quality and freshness.\\n* **Wide Selection:** We offer a vast array of groceries, including fresh produce, meat, seafood, pantry staples, and much more.\\n* **Competitive Prices:** We strive to offer competitive prices without compromising on quality.\\n* **Convenient Ordering and Delivery:** Shop online and schedule your delivery in just a few clicks.\\n* **Exceptional Customer Service:** Our friendly and knowledgeable staff is here to help you find everything you need and provide personalized recommendations.\\n\\n**Browse our amazing selection today!**\\n\\n**Shop Now!** [Your Store URL]\\n\\n**Special Offer:** Use code **FRESH10** at checkout for 10% off your first order!\\n\\n**Follow us on social media for updates, exclusive deals, and delicious recipes!**\\n\\n**Facebook:** [Your Facebook Page Link]\\n**Instagram:** [Your Instagram Page Link]\\n\\n**Don't miss out on the freshest and most convenient grocery shopping experience!**\\n\\n**Start your online grocery journey today!**\""
      ]
     },
     "execution_count": 13,
     "metadata": {},
     "output_type": "execute_result"
    }
   ],
   "source": [
    "llm.invoke(generated_prompt)"
   ]
  },
  {
   "cell_type": "code",
   "execution_count": null,
   "metadata": {},
   "outputs": [],
   "source": []
  }
 ],
 "metadata": {
  "kernelspec": {
   "display_name": "Python 3",
   "language": "python",
   "name": "python3"
  },
  "language_info": {
   "codemirror_mode": {
    "name": "ipython",
    "version": 3
   },
   "file_extension": ".py",
   "mimetype": "text/x-python",
   "name": "python",
   "nbconvert_exporter": "python",
   "pygments_lexer": "ipython3",
   "version": "3.12.0"
  }
 },
 "nbformat": 4,
 "nbformat_minor": 2
}
